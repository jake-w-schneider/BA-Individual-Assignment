{
 "cells": [
  {
   "cell_type": "markdown",
   "metadata": {},
   "source": [
    "**British Airways Revenue Forecasting 3** <br>\n",
    "Oxford Saïd Business School <br>\n",
    "Analysis 3: Regressions <br><br>\n",
    "\n",
    "*Jake Schneider* <br>\n",
    "MBA Candidate <br>\n",
    "November 2020 <br>"
   ]
  },
  {
   "cell_type": "markdown",
   "metadata": {},
   "source": [
    "----"
   ]
  },
  {
   "cell_type": "markdown",
   "metadata": {},
   "source": [
    "**Load Libraries**"
   ]
  },
  {
   "cell_type": "code",
   "execution_count": 1,
   "metadata": {},
   "outputs": [],
   "source": [
    "#Import libraries\n",
    "import sys\n",
    "import pandas as pd\n",
    "from datetime import date, datetime, time, timedelta\n",
    "import pendulum\n",
    "import json\n",
    "import requests\n",
    "import numpy as np\n",
    "from numpy import NaN\n",
    "from numpy import nanmean\n",
    "import math\n",
    "\n",
    "import collections\n",
    "\n",
    "import seaborn as sns\n",
    "import matplotlib\n",
    "import matplotlib.pyplot as plt\n",
    "%matplotlib inline\n",
    "sns.set(style='ticks', context='talk')\n",
    "\n",
    "from matplotlib.offsetbox import AnchoredText\n",
    "from sklearn import linear_model\n",
    "from sklearn.metrics import r2_score\n",
    "import statsmodels.api as sm\n",
    "#import fbprophet\n",
    "\n",
    "import statsmodels.api as sm\n",
    "\n",
    "import plotly.express as px\n",
    "import plotly.graph_objects as go\n",
    "from plotly.subplots import make_subplots\n",
    "import plotly.io as pio\n",
    "\n",
    "import datapane as dp\n",
    "\n",
    "import warnings\n",
    "import itertools"
   ]
  },
  {
   "cell_type": "markdown",
   "metadata": {},
   "source": [
    "----"
   ]
  },
  {
   "cell_type": "markdown",
   "metadata": {},
   "source": [
    "**Load Clean BA Data Set**"
   ]
  },
  {
   "cell_type": "code",
   "execution_count": 2,
   "metadata": {},
   "outputs": [],
   "source": [
    "# Load CFA Data from CFA_analysis_1\n",
    "\n",
    "df = pd.read_csv('../3_Outputs/Data/ba_df.csv')"
   ]
  },
  {
   "cell_type": "markdown",
   "metadata": {},
   "source": [
    "*Concat Macro Data with BA Income Statement*"
   ]
  },
  {
   "cell_type": "markdown",
   "metadata": {},
   "source": [
    "---"
   ]
  },
  {
   "cell_type": "markdown",
   "metadata": {},
   "source": [
    "**Regressions**"
   ]
  },
  {
   "cell_type": "code",
   "execution_count": null,
   "metadata": {},
   "outputs": [],
   "source": []
  }
 ],
 "metadata": {
  "kernelspec": {
   "display_name": "Python 3",
   "language": "python",
   "name": "python3"
  },
  "language_info": {
   "codemirror_mode": {
    "name": "ipython",
    "version": 3
   },
   "file_extension": ".py",
   "mimetype": "text/x-python",
   "name": "python",
   "nbconvert_exporter": "python",
   "pygments_lexer": "ipython3",
   "version": "3.7.7"
  }
 },
 "nbformat": 4,
 "nbformat_minor": 4
}
